{
  "nbformat": 4,
  "nbformat_minor": 0,
  "metadata": {
    "colab": {
      "provenance": []
    },
    "kernelspec": {
      "name": "python3",
      "display_name": "Python 3"
    },
    "language_info": {
      "name": "python"
    }
  },
  "cells": [
    {
      "cell_type": "markdown",
      "source": [
        "### Implementation of the paper https://link.springer.com/article/10.1007/s13226-023-00452-9 \"Encryption and decryption of signed graph matrices through RSA algorithm\""
      ],
      "metadata": {
        "id": "sORIiioHm3bN"
      }
    },
    {
      "cell_type": "markdown",
      "source": [
        "### Sender Side"
      ],
      "metadata": {
        "id": "LU-E-fW-ogHG"
      }
    },
    {
      "cell_type": "code",
      "execution_count": 40,
      "metadata": {
        "colab": {
          "base_uri": "https://localhost:8080/"
        },
        "id": "93tAe27ilVEB",
        "outputId": "4a1d9353-2392-4842-92e4-e11ee689c8d0"
      },
      "outputs": [
        {
          "output_type": "stream",
          "name": "stdout",
          "text": [
            "[0, 1, 0, 0, 0, 0, 0, 0, 0, 1]\n",
            "[1, 0, 1, 0, 0, 0, 1, 0, 0, 0]\n",
            "[0, 1, 0, -1, 0, 0, 0, 0, 0, 0]\n",
            "[0, 0, -1, 0, 1, 0, 0, 0, 0, 0]\n",
            "[0, 0, 0, 1, 0, 0, 0, -1, 0, 0]\n",
            "[0, 0, 0, 0, 0, 0, 0, 0, 0, 0]\n",
            "[0, 1, 0, 0, 0, 0, 0, 0, 0, 0]\n",
            "[0, 0, 0, 0, -1, 0, 0, 0, 0, 0]\n",
            "[0, 0, 0, 0, 0, 0, 0, 0, 0, -1]\n",
            "[1, 0, 0, 0, 0, 0, 0, 0, -1, 0]\n"
          ]
        }
      ],
      "source": [
        "\"\"\"\n",
        "  This class is the base class for creating SignedGraphs. THe class.add_edge can be used to add a new edge from a source vertex to a destination vertix\n",
        "  If no edge type is defined, it will be assumed as a positive edge\n",
        "\"\"\"\n",
        "class SignedGraph:\n",
        "    def __init__(self, num_vertices):\n",
        "        self.num_vertices = num_vertices\n",
        "        self.adj_matrix = [[0] * num_vertices for _ in range(num_vertices)]\n",
        "\n",
        "    def add_edge(self, source, destination, edge_type=1):\n",
        "        if source >= self.num_vertices or destination >= self.num_vertices:\n",
        "            raise IndexError(\"Vertex index out of range\")\n",
        "        if edge_type != 1 and edge_type!= -1:\n",
        "            raise IndexError(\"Edge Type Should Either be 1 or -1\")\n",
        "        if source == destination:\n",
        "            raise IndexError(\"You can not add a loop edge\")\n",
        "        self.adj_matrix[source][destination] = edge_type\n",
        "        self.adj_matrix[destination][source] = edge_type\n",
        "\n",
        "    def get_adjacency_matrix(self):\n",
        "        return self.adj_matrix\n",
        "\n",
        "# Example usage\n",
        "NUM_VERTICES = 10\n",
        "graph = SignedGraph(NUM_VERTICES)\n",
        "graph.add_edge(0, 1)\n",
        "graph.add_edge(1, 2)\n",
        "graph.add_edge(2, 3, -1)\n",
        "graph.add_edge(3,4, 1)\n",
        "graph.add_edge(4,7, -1)\n",
        "graph.add_edge(1,6,1)\n",
        "graph.add_edge(9,8, -1)\n",
        "graph.add_edge(0,9)\n",
        "\n",
        "\n",
        "adj_matrix = graph.get_adjacency_matrix()\n",
        "for row in adj_matrix:\n",
        "    print(row)"
      ]
    },
    {
      "cell_type": "code",
      "source": [
        "\"\"\"\n",
        "  THe following function changes a symmetric signed matrix to an upper triangular matrix\n",
        "  Essentially ripping off the the lower triangular matrix and the diagonal elements.\n",
        "\"\"\"\n",
        "\n",
        "def convert_to_upper_triangular(adjacency_matrix, number_of_vertices):\n",
        "    for i in range(number_of_vertices):\n",
        "        for j in range(number_of_vertices):\n",
        "            if j<i:\n",
        "                adjacency_matrix[i][j] = 0\n",
        "    upper_triangular_matrix = [adjacency_matrix[i][i+1:] for i in range(number_of_vertices)]\n",
        "    return upper_triangular_matrix"
      ],
      "metadata": {
        "id": "F43My8z0lXfM"
      },
      "execution_count": 2,
      "outputs": []
    },
    {
      "cell_type": "code",
      "source": [
        "upper_triangular_matrix = convert_to_upper_triangular(adj_matrix, NUM_VERTICES)\n",
        "upper_triangular_matrix"
      ],
      "metadata": {
        "colab": {
          "base_uri": "https://localhost:8080/"
        },
        "id": "URthQK1claO0",
        "outputId": "f31c91e7-0d00-42a5-c8be-9e3f47d1893a"
      },
      "execution_count": 3,
      "outputs": [
        {
          "output_type": "execute_result",
          "data": {
            "text/plain": [
              "[[1, 0, 0, 0, 0, 0, 0, 0, 1],\n",
              " [1, 0, 0, 0, 1, 0, 0, 0],\n",
              " [-1, 0, 0, 0, 0, 0, 0],\n",
              " [1, 0, 0, 0, 0, 0],\n",
              " [0, 0, -1, 0, 0],\n",
              " [0, 0, 0, 0],\n",
              " [0, 0, 0],\n",
              " [0, 0],\n",
              " [-1],\n",
              " []]"
            ]
          },
          "metadata": {},
          "execution_count": 3
        }
      ]
    },
    {
      "cell_type": "code",
      "source": [
        "\"\"\"\n",
        "This function converts an upper triangular matrix to a list.\n",
        "It will add elements starting from the last row of the matrix from right to left\n",
        "\n",
        "\"\"\"\n",
        "def convert_utm_to_list(upper_triangular_matrix):\n",
        "    list_of_digits = []\n",
        "    for i in range(NUM_VERTICES-1, -1, -1):\n",
        "        for j in range(len(upper_triangular_matrix[i])-1, -1, -1):\n",
        "            list_of_digits.append(upper_triangular_matrix[i][j])\n",
        "    return list_of_digits\n",
        "            # print(f'Round {i} {j}')"
      ],
      "metadata": {
        "id": "asCm30DqleHB"
      },
      "execution_count": 4,
      "outputs": []
    },
    {
      "cell_type": "code",
      "source": [
        "list_of_digits = convert_utm_to_list(upper_triangular_matrix)"
      ],
      "metadata": {
        "id": "f_rHWHNQlgXQ"
      },
      "execution_count": 5,
      "outputs": []
    },
    {
      "cell_type": "code",
      "source": [
        "list_of_digits"
      ],
      "metadata": {
        "colab": {
          "base_uri": "https://localhost:8080/"
        },
        "id": "Q8IoDKvMlirs",
        "outputId": "fbf57d34-5108-4146-9d41-e42571d6e6a3"
      },
      "execution_count": 6,
      "outputs": [
        {
          "output_type": "execute_result",
          "data": {
            "text/plain": [
              "[-1,\n",
              " 0,\n",
              " 0,\n",
              " 0,\n",
              " 0,\n",
              " 0,\n",
              " 0,\n",
              " 0,\n",
              " 0,\n",
              " 0,\n",
              " 0,\n",
              " 0,\n",
              " -1,\n",
              " 0,\n",
              " 0,\n",
              " 0,\n",
              " 0,\n",
              " 0,\n",
              " 0,\n",
              " 0,\n",
              " 1,\n",
              " 0,\n",
              " 0,\n",
              " 0,\n",
              " 0,\n",
              " 0,\n",
              " 0,\n",
              " -1,\n",
              " 0,\n",
              " 0,\n",
              " 0,\n",
              " 1,\n",
              " 0,\n",
              " 0,\n",
              " 0,\n",
              " 1,\n",
              " 1,\n",
              " 0,\n",
              " 0,\n",
              " 0,\n",
              " 0,\n",
              " 0,\n",
              " 0,\n",
              " 0,\n",
              " 1]"
            ]
          },
          "metadata": {},
          "execution_count": 6
        }
      ]
    },
    {
      "cell_type": "code",
      "source": [
        "len(list_of_digits)"
      ],
      "metadata": {
        "colab": {
          "base_uri": "https://localhost:8080/"
        },
        "id": "_uS60_Oplkpc",
        "outputId": "4c98ff19-e05e-4af9-b510-d4a67e587793"
      },
      "execution_count": 7,
      "outputs": [
        {
          "output_type": "execute_result",
          "data": {
            "text/plain": [
              "45"
            ]
          },
          "metadata": {},
          "execution_count": 7
        }
      ]
    },
    {
      "cell_type": "code",
      "source": [
        "\"\"\"\n",
        "Convert the list of digits to strings of 01s and -1s as defined in the paper.\n",
        "It will start from left scan the string of 0's, 1's and -1's.\n",
        "Add -1 as a seperate string when encountered and 0s and 1s between -1s as one string\n",
        "\n",
        "\"\"\"\n",
        "\n",
        "def convert_list_to_strings(input_list):\n",
        "    strings = []\n",
        "    current_string = \"\"\n",
        "\n",
        "    for value in input_list:\n",
        "        if value == -1:\n",
        "            if current_string:\n",
        "                strings.append(current_string)\n",
        "                current_string = \"\"\n",
        "            strings.append(str(value))\n",
        "        else:\n",
        "            current_string += str(value)\n",
        "\n",
        "    if current_string:\n",
        "        strings.append(current_string)\n",
        "\n",
        "    return strings\n"
      ],
      "metadata": {
        "id": "3kOrPgCKlmhw"
      },
      "execution_count": 8,
      "outputs": []
    },
    {
      "cell_type": "code",
      "source": [
        "strings_of_digits = convert_list_to_strings(list_of_digits)"
      ],
      "metadata": {
        "id": "dlClk9Kzln41"
      },
      "execution_count": 9,
      "outputs": []
    },
    {
      "cell_type": "code",
      "source": [
        "strings_of_digits"
      ],
      "metadata": {
        "colab": {
          "base_uri": "https://localhost:8080/"
        },
        "id": "IpL4ynWWlp18",
        "outputId": "c23fafe0-1453-40d1-b13c-3b764955b35e"
      },
      "execution_count": 10,
      "outputs": [
        {
          "output_type": "execute_result",
          "data": {
            "text/plain": [
              "['-1', '00000000000', '-1', '00000001000000', '-1', '00010001100000001']"
            ]
          },
          "metadata": {},
          "execution_count": 10
        }
      ]
    },
    {
      "cell_type": "code",
      "source": [
        "\"\"\"\n",
        "THis funciton adds a 1 at the start and end of any string that is not -1\n",
        "\"\"\"\n",
        "def wrap_ones_around_strings(strings_of_digits):\n",
        "    appended_strings_of_digits = []\n",
        "    for s in strings_of_digits:\n",
        "        if int(s) != -1:\n",
        "            s = \"1\" + s + \"1\"\n",
        "        appended_strings_of_digits.append(s)\n",
        "    return appended_strings_of_digits"
      ],
      "metadata": {
        "id": "Vh7mWzhZlrBh"
      },
      "execution_count": 11,
      "outputs": []
    },
    {
      "cell_type": "code",
      "source": [
        "appended_strings_of_digits = wrap_ones_around_strings(strings_of_digits)"
      ],
      "metadata": {
        "id": "ysbMaPKdlsW7"
      },
      "execution_count": 12,
      "outputs": []
    },
    {
      "cell_type": "code",
      "source": [
        "appended_strings_of_digits"
      ],
      "metadata": {
        "colab": {
          "base_uri": "https://localhost:8080/"
        },
        "id": "UMDv8Lk5luNc",
        "outputId": "2a7f9635-bd41-4cac-ed68-4891a9c04591"
      },
      "execution_count": 13,
      "outputs": [
        {
          "output_type": "execute_result",
          "data": {
            "text/plain": [
              "['-1', '1000000000001', '-1', '1000000010000001', '-1', '1000100011000000011']"
            ]
          },
          "metadata": {},
          "execution_count": 13
        }
      ]
    },
    {
      "cell_type": "code",
      "source": [
        "\"\"\"\n",
        "Change the binary strings to their decimal counter parts\n",
        "\n",
        "\"\"\"\n",
        "def binary_to_decimal(binary_list):\n",
        "    decimal_list=[]\n",
        "    for i in binary_list:\n",
        "        decimal_list.append(str(int(i, base=2)))\n",
        "    return decimal_list"
      ],
      "metadata": {
        "id": "D9qeyI0ilvo2"
      },
      "execution_count": 14,
      "outputs": []
    },
    {
      "cell_type": "code",
      "source": [
        "decimalized_numbers = binary_to_decimal(appended_strings_of_digits)"
      ],
      "metadata": {
        "id": "6v0svLs_lxI1"
      },
      "execution_count": 15,
      "outputs": []
    },
    {
      "cell_type": "code",
      "source": [
        "decimalized_numbers"
      ],
      "metadata": {
        "colab": {
          "base_uri": "https://localhost:8080/"
        },
        "id": "8600iQK-lyaF",
        "outputId": "4def5548-fbec-4633-965f-6f39274f097f"
      },
      "execution_count": 16,
      "outputs": [
        {
          "output_type": "execute_result",
          "data": {
            "text/plain": [
              "['-1', '4097', '-1', '32897', '-1', '280067']"
            ]
          },
          "metadata": {},
          "execution_count": 16
        }
      ]
    },
    {
      "cell_type": "code",
      "source": [
        "decimalized_numbers\n"
      ],
      "metadata": {
        "colab": {
          "base_uri": "https://localhost:8080/"
        },
        "id": "tBWM24_rlzfx",
        "outputId": "954227b6-f713-4364-d57a-8668263d4ef0"
      },
      "execution_count": 17,
      "outputs": [
        {
          "output_type": "execute_result",
          "data": {
            "text/plain": [
              "['-1', '4097', '-1', '32897', '-1', '280067']"
            ]
          },
          "metadata": {},
          "execution_count": 17
        }
      ]
    },
    {
      "cell_type": "code",
      "source": [
        "import rsa"
      ],
      "metadata": {
        "id": "6wwyvLXXl06B"
      },
      "execution_count": 18,
      "outputs": []
    },
    {
      "cell_type": "code",
      "source": [
        "\n",
        "publicKey, privateKey = rsa.newkeys(512)"
      ],
      "metadata": {
        "id": "nwSgaV__l5QR"
      },
      "execution_count": 19,
      "outputs": []
    },
    {
      "cell_type": "code",
      "source": [
        "\"\"\"\n",
        "Use private key of rsa to encrypt the numbers\n",
        "\"\"\"\n",
        "encStrings = []\n",
        "for i in decimalized_numbers:\n",
        "    encMessage = rsa.encrypt(i.encode(),publicKey)\n",
        "    # print(encMessage)\n",
        "    encStrings.append(encMessage )"
      ],
      "metadata": {
        "id": "Nffo0U-7l8oK"
      },
      "execution_count": 20,
      "outputs": []
    },
    {
      "cell_type": "code",
      "source": [
        "encStrings"
      ],
      "metadata": {
        "colab": {
          "base_uri": "https://localhost:8080/"
        },
        "id": "puamPxikl99T",
        "outputId": "6bf68248-43a4-4606-9649-efb4000e1a53"
      },
      "execution_count": 21,
      "outputs": [
        {
          "output_type": "execute_result",
          "data": {
            "text/plain": [
              "[b'\\x0b\\x91@\\x9bX\\xb5\\x8a\\x88\\xdd08\\x9bX\\x82\\x15\\x1eC\\x06S\\xe2%\\x97e\\x98K\\xeb*)X\\x8frv \\x0c\\x95~I\\xc0\\xe5R\\xa5\\x05f\\xc1H\\xb2\\xdf\\x0b4:{I\\xef\\xb1\\x06\\xf2\\\\\\xd0=\\xfb12f\\x87',\n",
              " b'\\x1aW5O\\x9c\\xca\\xf8sl\\x9au\\xd5X+A\\\\\\x1fK\\xd8s\\\\c\\xd6\\xdb_S\\x03\\xe2\\x1f\\xe5\\xc5\\x83\\x04\\xd5\\xaf$S\\xcaO\\x14\\xdd\\x94K\\x85+\\xd3\\xca\\xbd\\xa4S@i\\x8e\\x18FC\\xde\\x15Y\\xa9\\x1cj\\r\\xc2',\n",
              " b'\\x84\\xf5\\x9b\\xd6q\\xca\\xdcp\\xc2\\xadb\\xeb\\xfd9\\xebCs\\x96\\xfc\\x82\\xb4\\x8b\\xb5\\xd85L\\x83\\x9d4\\xb5\\xe4\\n\\x16\\xb3<\\xdc\\xf8\\x94\\x9d\\x17\\xa5\\xe2\\x03\\x0blU\\xb2\\x94J0J\\xaa|\\x9a\\xaaj\\x91e\\xc7m\\xf2\\x96\\xb1\\xc8',\n",
              " b'4\\xf4\\xfd~b\\xb9?\\xc9\\x95\\x06\\xcd\\x1a\\xb3:\\xb8_\\xef \\x01\\x82\\xfcm\\x15n\\x0c\\xab\\xa4\\\\\\xac\\x138\\xe13\\x11\\xddv\\x83$\\xfd\\x94\\xfc\\x9bm\\xc7\\x02\\xeb\\x0b\\xab\\xd7\\x16\\x9ey\\xc3\\x0f\\x8c`\\xd2\\xd4\\x0f4\\xf3}\\x8d\\xd6',\n",
              " b'o\\xcd!\\xe1\\x8c]\\x9b\\x8b\\xa8\\xffAA\\xee\\xea\\xa4\\xcb:\\xb7W\\xdalg\\xeb{M\\xa83\\n\\x0c\\xda\\x06\\xfd\\xceS\\xa2\\xbd\\xf1\\xa2=\\x92\\x18\\xb7\\xe4\\x95-\"\\x8a\\xc5\\x81[\\x1b\\xd5\\xaf\\x94\\x86\\x03\\x86\\xb9g\\xc6Xa\\x9b\\xa3',\n",
              " b\"3u <\\x14{{\\xa5\\xf9\\xc3\\x01\\xc9\\xc9\\x92,\\xd5%\\xd2\\xbd\\xf8&\\xec+\\xc2\\xbe\\x1a?S\\xae9\\x18m\\x1e\\x80\\x85\\xc2\\xb1\\x1e[g\\xdd\\xa7[\\x900\\xa6\\xd5\\x94\\xdb\\xa1\\xb9\\xe9.'\\xec\\xc50e*\\xbd\\xe4\\xf4\\xdd\\xd7\"]"
            ]
          },
          "metadata": {},
          "execution_count": 21
        }
      ]
    },
    {
      "cell_type": "markdown",
      "source": [
        "### Receiver Side\n",
        "\n",
        "#### The next lines of code will be carried out in the receiver side"
      ],
      "metadata": {
        "id": "H_XrzMNYolSs"
      }
    },
    {
      "cell_type": "code",
      "source": [
        "\"\"\"\n",
        "Decrpyt the message using private key\n",
        "\"\"\"\n",
        "decStrings=[]\n",
        "for i in encStrings:\n",
        "    decMessage = rsa.decrypt(i, privateKey).decode()\n",
        "    decStrings.append(decMessage)"
      ],
      "metadata": {
        "id": "Af62QkZ3l_dM"
      },
      "execution_count": 22,
      "outputs": []
    },
    {
      "cell_type": "code",
      "source": [
        "decStrings"
      ],
      "metadata": {
        "colab": {
          "base_uri": "https://localhost:8080/"
        },
        "id": "9cG_xdY-mA9Z",
        "outputId": "d807484d-1ffc-4d74-8d6a-b8b6c47cade1"
      },
      "execution_count": 23,
      "outputs": [
        {
          "output_type": "execute_result",
          "data": {
            "text/plain": [
              "['-1', '4097', '-1', '32897', '-1', '280067']"
            ]
          },
          "metadata": {},
          "execution_count": 23
        }
      ]
    },
    {
      "cell_type": "code",
      "source": [],
      "metadata": {
        "id": "aHleLIM7mCGj"
      },
      "execution_count": 40,
      "outputs": []
    },
    {
      "cell_type": "code",
      "source": [
        "\"\"\"\n",
        "Convert Decimals to binary\n",
        "\"\"\"\n",
        "decoded_binary = []\n",
        "for i in decStrings:\n",
        "    num = str(bin(int(i)).replace(\"0b\", \"\"))\n",
        "    decoded_binary.append(num)"
      ],
      "metadata": {
        "id": "N69s3DXwmFIy"
      },
      "execution_count": 25,
      "outputs": []
    },
    {
      "cell_type": "code",
      "source": [
        "decoded_binary"
      ],
      "metadata": {
        "colab": {
          "base_uri": "https://localhost:8080/"
        },
        "id": "UkOzkVKWmGLw",
        "outputId": "9eafaad0-83c7-4d8b-d4e5-9fd756292aeb"
      },
      "execution_count": 26,
      "outputs": [
        {
          "output_type": "execute_result",
          "data": {
            "text/plain": [
              "['-1', '1000000000001', '-1', '1000000010000001', '-1', '1000100011000000011']"
            ]
          },
          "metadata": {},
          "execution_count": 26
        }
      ]
    },
    {
      "cell_type": "code",
      "source": [
        "\"\"\"\n",
        "Strip the 1s at the start and end of strings that are not -1 and then make a list from the strings\n",
        "\"\"\"\n",
        "decoded_binary_list = []\n",
        "for i in decoded_binary:\n",
        "    if i != \"-1\":\n",
        "        bin_string = i[1:-1]\n",
        "        for j in bin_string:\n",
        "            decoded_binary_list.append(int(j))\n",
        "    else:\n",
        "        decoded_binary_list.append(int(i))"
      ],
      "metadata": {
        "colab": {
          "base_uri": "https://localhost:8080/"
        },
        "id": "0iHsZiugmHap",
        "outputId": "65778dd9-3fcc-4043-9a42-54ba8e7c49f0"
      },
      "execution_count": 27,
      "outputs": [
        {
          "output_type": "stream",
          "name": "stdout",
          "text": [
            "00000000000\n",
            "00000001000000\n",
            "00010001100000001\n"
          ]
        }
      ]
    },
    {
      "cell_type": "code",
      "source": [
        "decoded_binary_list"
      ],
      "metadata": {
        "colab": {
          "base_uri": "https://localhost:8080/"
        },
        "id": "80kHVBbtmIdo",
        "outputId": "f189a7b7-dcae-43f7-d60a-135ccffb4b7c"
      },
      "execution_count": 28,
      "outputs": [
        {
          "output_type": "execute_result",
          "data": {
            "text/plain": [
              "[-1,\n",
              " 0,\n",
              " 0,\n",
              " 0,\n",
              " 0,\n",
              " 0,\n",
              " 0,\n",
              " 0,\n",
              " 0,\n",
              " 0,\n",
              " 0,\n",
              " 0,\n",
              " -1,\n",
              " 0,\n",
              " 0,\n",
              " 0,\n",
              " 0,\n",
              " 0,\n",
              " 0,\n",
              " 0,\n",
              " 1,\n",
              " 0,\n",
              " 0,\n",
              " 0,\n",
              " 0,\n",
              " 0,\n",
              " 0,\n",
              " -1,\n",
              " 0,\n",
              " 0,\n",
              " 0,\n",
              " 1,\n",
              " 0,\n",
              " 0,\n",
              " 0,\n",
              " 1,\n",
              " 1,\n",
              " 0,\n",
              " 0,\n",
              " 0,\n",
              " 0,\n",
              " 0,\n",
              " 0,\n",
              " 0,\n",
              " 1]"
            ]
          },
          "metadata": {},
          "execution_count": 28
        }
      ]
    },
    {
      "cell_type": "code",
      "source": [
        "len(decoded_binary_list)"
      ],
      "metadata": {
        "colab": {
          "base_uri": "https://localhost:8080/"
        },
        "id": "eMAc2EAxmJ13",
        "outputId": "ab13e69e-f2c1-4f1b-b6a2-9cf25f03fa71"
      },
      "execution_count": 29,
      "outputs": [
        {
          "output_type": "execute_result",
          "data": {
            "text/plain": [
              "45"
            ]
          },
          "metadata": {},
          "execution_count": 29
        }
      ]
    },
    {
      "cell_type": "code",
      "source": [
        "len(decoded_binary_list) == len(list_of_digits)"
      ],
      "metadata": {
        "colab": {
          "base_uri": "https://localhost:8080/"
        },
        "id": "dhzNIhZDmL_y",
        "outputId": "fc14007d-8b8c-4c32-ea49-954e9c151588"
      },
      "execution_count": 30,
      "outputs": [
        {
          "output_type": "execute_result",
          "data": {
            "text/plain": [
              "True"
            ]
          },
          "metadata": {},
          "execution_count": 30
        }
      ]
    },
    {
      "cell_type": "code",
      "source": [
        "\"\"\"\n",
        "\n",
        "Convert the list back to upper triangular matrix.\n",
        "It should be the same way that we constructed the list. Start from last row and add elements up to but not including diagonal positions from right to left\n",
        "\"\"\"\n",
        "\n",
        "def convert_list_to_utm(list_binary):\n",
        "    k=9\n",
        "    utm = []\n",
        "    for i in range(NUM_VERTICES):\n",
        "        temp_list = []\n",
        "        for j in range(k):\n",
        "            temp_list.append(decoded_binary_list.pop())\n",
        "        utm.append(temp_list)\n",
        "        k-=1\n",
        "    return utm\n",
        "            # print(f'Round {i} {j}')"
      ],
      "metadata": {
        "id": "Y82cDlYCmTpz"
      },
      "execution_count": 31,
      "outputs": []
    },
    {
      "cell_type": "code",
      "source": [
        "constructed_utm = convert_list_to_utm(decoded_binary_list)"
      ],
      "metadata": {
        "id": "IL8qMiitmVFH"
      },
      "execution_count": 32,
      "outputs": []
    },
    {
      "cell_type": "code",
      "source": [
        "constructed_utm"
      ],
      "metadata": {
        "colab": {
          "base_uri": "https://localhost:8080/"
        },
        "id": "WR1MT9jrmWZ3",
        "outputId": "8a04257e-f3b9-48f9-f26c-169bdc9bc785"
      },
      "execution_count": 33,
      "outputs": [
        {
          "output_type": "execute_result",
          "data": {
            "text/plain": [
              "[[1, 0, 0, 0, 0, 0, 0, 0, 1],\n",
              " [1, 0, 0, 0, 1, 0, 0, 0],\n",
              " [-1, 0, 0, 0, 0, 0, 0],\n",
              " [1, 0, 0, 0, 0, 0],\n",
              " [0, 0, -1, 0, 0],\n",
              " [0, 0, 0, 0],\n",
              " [0, 0, 0],\n",
              " [0, 0],\n",
              " [-1],\n",
              " []]"
            ]
          },
          "metadata": {},
          "execution_count": 33
        }
      ]
    },
    {
      "cell_type": "code",
      "source": [
        "\"\"\"\n",
        "Add zeros to the matrix to make an adjacency matrix\n",
        "\"\"\"\n",
        "def add_zeros_to_utm(utm, number_of_vertices):\n",
        "    k=1\n",
        "    for i in range(number_of_vertices):\n",
        "        for j in range(k):\n",
        "            utm[i].insert(0, 0)\n",
        "        k+=1\n",
        "    return utm"
      ],
      "metadata": {
        "id": "x4zZSUEYmXlp"
      },
      "execution_count": 34,
      "outputs": []
    },
    {
      "cell_type": "code",
      "source": [
        "utm_with_zeros = add_zeros_to_utm(constructed_utm, NUM_VERTICES)"
      ],
      "metadata": {
        "id": "Qu7Z5mhmmZEh"
      },
      "execution_count": 35,
      "outputs": []
    },
    {
      "cell_type": "code",
      "source": [
        "utm_with_zeros"
      ],
      "metadata": {
        "colab": {
          "base_uri": "https://localhost:8080/"
        },
        "id": "0qcPGu7Jmanw",
        "outputId": "fbc1f362-97de-4ad3-ddce-d4f23604ee01"
      },
      "execution_count": 36,
      "outputs": [
        {
          "output_type": "execute_result",
          "data": {
            "text/plain": [
              "[[0, 1, 0, 0, 0, 0, 0, 0, 0, 1],\n",
              " [0, 0, 1, 0, 0, 0, 1, 0, 0, 0],\n",
              " [0, 0, 0, -1, 0, 0, 0, 0, 0, 0],\n",
              " [0, 0, 0, 0, 1, 0, 0, 0, 0, 0],\n",
              " [0, 0, 0, 0, 0, 0, 0, -1, 0, 0],\n",
              " [0, 0, 0, 0, 0, 0, 0, 0, 0, 0],\n",
              " [0, 0, 0, 0, 0, 0, 0, 0, 0, 0],\n",
              " [0, 0, 0, 0, 0, 0, 0, 0, 0, 0],\n",
              " [0, 0, 0, 0, 0, 0, 0, 0, 0, -1],\n",
              " [0, 0, 0, 0, 0, 0, 0, 0, 0, 0]]"
            ]
          },
          "metadata": {},
          "execution_count": 36
        }
      ]
    },
    {
      "cell_type": "code",
      "source": [
        "\"\"\"\n",
        "Make a complete adjacency matrix. By adding 1s and -1s to the mirror positions of where they are\n",
        "\"\"\"\n",
        "\n",
        "for i in range(NUM_VERTICES):\n",
        "    for j in range(i):\n",
        "        if(utm_with_zeros[j][i] != 0):\n",
        "            utm_with_zeros[i][j] = utm_with_zeros[j][i]"
      ],
      "metadata": {
        "id": "NJbUegHemcJK"
      },
      "execution_count": 37,
      "outputs": []
    },
    {
      "cell_type": "code",
      "source": [
        "utm_with_zeros"
      ],
      "metadata": {
        "colab": {
          "base_uri": "https://localhost:8080/"
        },
        "id": "T_ESWPOymdrQ",
        "outputId": "54cec71b-b66e-40a6-b606-a9dad2c70013"
      },
      "execution_count": 38,
      "outputs": [
        {
          "output_type": "execute_result",
          "data": {
            "text/plain": [
              "[[0, 1, 0, 0, 0, 0, 0, 0, 0, 1],\n",
              " [1, 0, 1, 0, 0, 0, 1, 0, 0, 0],\n",
              " [0, 1, 0, -1, 0, 0, 0, 0, 0, 0],\n",
              " [0, 0, -1, 0, 1, 0, 0, 0, 0, 0],\n",
              " [0, 0, 0, 1, 0, 0, 0, -1, 0, 0],\n",
              " [0, 0, 0, 0, 0, 0, 0, 0, 0, 0],\n",
              " [0, 1, 0, 0, 0, 0, 0, 0, 0, 0],\n",
              " [0, 0, 0, 0, -1, 0, 0, 0, 0, 0],\n",
              " [0, 0, 0, 0, 0, 0, 0, 0, 0, -1],\n",
              " [1, 0, 0, 0, 0, 0, 0, 0, -1, 0]]"
            ]
          },
          "metadata": {},
          "execution_count": 38
        }
      ]
    },
    {
      "cell_type": "code",
      "source": [],
      "metadata": {
        "id": "Qdo6sqhWmguD"
      },
      "execution_count": null,
      "outputs": []
    }
  ]
}